{
  "nbformat": 4,
  "nbformat_minor": 0,
  "metadata": {
    "colab": {
      "name": "news_crawler_details.ipynb",
      "provenance": [],
      "collapsed_sections": []
    },
    "kernelspec": {
      "name": "python3",
      "display_name": "Python 3"
    },
    "language_info": {
      "name": "python"
    }
  },
  "cells": [
    {
      "cell_type": "markdown",
      "metadata": {
        "id": "4Y3Gqz0zytwj"
      },
      "source": [
        "# News Crawler Application\n",
        "*This is an interactive Jupyter Notebook application which retrieves top news on a topic (as asked by the user) from trustworthy news sources, powered by News API.*\n",
        "\n",
        "When we try to find news on any topic, generally we search on Google and find the results filled with *fake news or biased news*,  and mostly belong to *unverified or unreliable resources*. Since Google hasn't indexed most of the parts of the internet, the results aren't soo accurate. This ends up in spreading fake news sometimes. One of the solutions is to get news from the websites or sources that we can trust like BBC, CNN, The Times of India, The Hindu, etc. This will help us to stay away from articles that are meant to propagate fake news. NewsCrawler is an application that can perform a *search within the selected RSS feeds*. The possibility to filter the news by keywords, which is very useful when the user is interested in a particular topic can be anything like, Crypto-currency, Prime Minister of India,  stock prices of a company, etc. It is no longer necessary to access the websites of a specific source, as you can log into them from NewScrawler. NewScrawler works based on the concept of *web scraping using news APIs*."
      ]
    },
    {
      "cell_type": "markdown",
      "metadata": {
        "id": "no9XUNFAytwq"
      },
      "source": [
        "**The following procedure describes the workflow behind the application and how it captures major news sources at any given point of time.**"
      ]
    },
    {
      "cell_type": "markdown",
      "metadata": {
        "id": "g60-PaPo9G8-"
      },
      "source": [
        "#Requirements"
      ]
    },
    {
      "cell_type": "code",
      "metadata": {
        "colab": {
          "base_uri": "https://localhost:8080/"
        },
        "id": "cft4gy4K9Kuk",
        "outputId": "80150d01-8954-48ea-a33f-1648ef2e86d5"
      },
      "source": [
        "pip install newsapi-python"
      ],
      "execution_count": 13,
      "outputs": [
        {
          "output_type": "stream",
          "name": "stdout",
          "text": [
            "Collecting newsapi-python\n",
            "  Downloading newsapi_python-0.2.6-py2.py3-none-any.whl (7.9 kB)\n",
            "Requirement already satisfied: requests<3.0.0 in /usr/local/lib/python3.7/dist-packages (from newsapi-python) (2.23.0)\n",
            "Requirement already satisfied: idna<3,>=2.5 in /usr/local/lib/python3.7/dist-packages (from requests<3.0.0->newsapi-python) (2.10)\n",
            "Requirement already satisfied: chardet<4,>=3.0.2 in /usr/local/lib/python3.7/dist-packages (from requests<3.0.0->newsapi-python) (3.0.4)\n",
            "Requirement already satisfied: certifi>=2017.4.17 in /usr/local/lib/python3.7/dist-packages (from requests<3.0.0->newsapi-python) (2021.5.30)\n",
            "Requirement already satisfied: urllib3!=1.25.0,!=1.25.1,<1.26,>=1.21.1 in /usr/local/lib/python3.7/dist-packages (from requests<3.0.0->newsapi-python) (1.24.3)\n",
            "Installing collected packages: newsapi-python\n",
            "Successfully installed newsapi-python-0.2.6\n"
          ]
        }
      ]
    },
    {
      "cell_type": "markdown",
      "metadata": {
        "id": "KEKox1bD0Qpx"
      },
      "source": [
        "# All the imports"
      ]
    },
    {
      "cell_type": "markdown",
      "metadata": {
        "id": "0X2xcIdR2D8y"
      },
      "source": [
        "### For user input"
      ]
    },
    {
      "cell_type": "code",
      "metadata": {
        "id": "JgQMptdW2zNl"
      },
      "source": [
        "from ipywidgets import widgets\n",
        "from ipywidgets import *"
      ],
      "execution_count": 6,
      "outputs": []
    },
    {
      "cell_type": "markdown",
      "metadata": {
        "id": "LkuTW0uU3IHM"
      },
      "source": [
        "**Widgets** are eventful **python objects** that have a representation in the browser, often as a control like a slider, textbox, etc.\n",
        "You can use widgets to build **interactive GUIs for your notebooks**.\n",
        "You can also use widgets to synchronize stateful and stateless information between Python and JavaScript."
      ]
    },
    {
      "cell_type": "code",
      "metadata": {
        "id": "LRo2fPa-4CcW"
      },
      "source": [
        "from traitlets import *"
      ],
      "execution_count": 7,
      "outputs": []
    },
    {
      "cell_type": "markdown",
      "metadata": {
        "id": "6CrrIiOf5RrY"
      },
      "source": [
        "**Traitlets** is a framework that lets Python classes have attributes with type checking, dynamically calculated default values, and ‘on change’ callbacks.\n",
        "The package also includes a mechanism to use traitlets for configuration, loading values from files or from command line arguments. This is a distinct layer on top of traitlets, so you can use traitlets in your code without using the configuration machinery."
      ]
    },
    {
      "cell_type": "code",
      "metadata": {
        "id": "5G0dAb5G5oOi"
      },
      "source": [
        "from IPython.display import display, Markdown"
      ],
      "execution_count": 8,
      "outputs": []
    },
    {
      "cell_type": "markdown",
      "metadata": {
        "id": "u-SEQ5Hb5tS6"
      },
      "source": [
        "*To display data using markdown.*"
      ]
    },
    {
      "cell_type": "code",
      "metadata": {
        "id": "fi3XPeMc7odJ"
      },
      "source": [
        "import unicodedata"
      ],
      "execution_count": 9,
      "outputs": []
    },
    {
      "cell_type": "markdown",
      "metadata": {
        "id": "-tVo7WYY7uT7"
      },
      "source": [
        "This module provides access to the Unicode Character Database (UCD) which defines character properties for all Unicode characters.\n",
        "\n",
        "*To convert unicode to string*"
      ]
    },
    {
      "cell_type": "code",
      "metadata": {
        "id": "y8ztc7tE7_5B"
      },
      "source": [
        "from newsapi import NewsApiClient"
      ],
      "execution_count": 14,
      "outputs": []
    },
    {
      "cell_type": "markdown",
      "metadata": {
        "id": "I3Fr9k5b8asJ"
      },
      "source": [
        "Use the **unofficial Python client library** to *integrate News API into your Python application* without having to make HTTP requests directly.\n",
        "\n",
        "*NewsApiClient to find URLs of all the news on given topic.*"
      ]
    },
    {
      "cell_type": "code",
      "metadata": {
        "id": "uLHHR5Zn9slc"
      },
      "source": [
        "import requests"
      ],
      "execution_count": 15,
      "outputs": []
    },
    {
      "cell_type": "markdown",
      "metadata": {
        "id": "1m5Jz33590HH"
      },
      "source": [
        "Requests **allows you to send HTTP requests** extremely easily. There’s no need to manually add query strings to your URLs, or to form-encode your PUT & POST data — but nowadays, just use the json method!\n"
      ]
    },
    {
      "cell_type": "code",
      "metadata": {
        "id": "jDaJGi2D-Lm2"
      },
      "source": [
        "from bs4 import BeautifulSoup"
      ],
      "execution_count": 16,
      "outputs": []
    },
    {
      "cell_type": "markdown",
      "metadata": {
        "id": "aOs1A_Vs-QmI"
      },
      "source": [
        "Beautiful Soup is a library that makes it easy **to scrape information from web pages**. It sits atop an HTML or XML parser, providing Pythonic idioms for iterating, searching, and modifying the parse tree."
      ]
    },
    {
      "cell_type": "markdown",
      "metadata": {
        "id": "ayvn3Lysytwt"
      },
      "source": [
        "# Ask user about their choice of the topic\n",
        "\n",
        "We'll start by asking the user about what topic they're interested in. Run the cell and enter a name of a company and press _enter_"
      ]
    },
    {
      "cell_type": "markdown",
      "metadata": {
        "id": "q6maEcsg-mGz"
      },
      "source": [
        "### Get user choice about the topic"
      ]
    },
    {
      "cell_type": "code",
      "metadata": {
        "id": "fFT2pkTG_eLV"
      },
      "source": [
        "text_input = widgets.Text(value=input(\"Enter the topic you want to find news about: \"))\n",
        "print(\"You want to find news on\", text_input.value+\"! Here you go...\")\n",
        "# display(text_input)\n"
      ],
      "execution_count": null,
      "outputs": []
    },
    {
      "cell_type": "markdown",
      "metadata": {
        "id": "_MnOdeg2AAYZ"
      },
      "source": [
        "Store user's topic choice for use in the rest of the notebook. (Note: need to convert from unicode to string for ease of use later)"
      ]
    },
    {
      "cell_type": "markdown",
      "metadata": {
        "id": "iG0wjprCALpa"
      },
      "source": [
        "### Convert user's topic preference into a string ready for API query"
      ]
    },
    {
      "cell_type": "code",
      "metadata": {
        "id": "lEbfPtRtAVuW"
      },
      "source": [
        "company_name = unicodedata.normalize('NFKD', text_input.value).encode('ascii','ignore').decode(\"utf-8\")"
      ],
      "execution_count": 106,
      "outputs": []
    },
    {
      "cell_type": "markdown",
      "metadata": {
        "id": "HnVr6esRd3kw"
      },
      "source": [
        "# Find top news article URLs\n",
        "\n",
        "Next, we'll use the **News API** to find the top trending news about the topic from trustworthy sources like CNBC, BBC News, etc. (to find a diversified, yet reputable mix of news articles can be found by selecting multiple sources at a time).\n",
        "Currently, we're only fetching 5 news articles, but that value can be changed.\n",
        "\n",
        "**Some trustworthy sources**: \n",
        "  + bbc-news, cnn, espn,\n",
        "  + the-hindu, the-times-of-india, news24,\n",
        "  + google-news, crypto-coins-news, bloomberg etc."
      ]
    },
    {
      "cell_type": "markdown",
      "metadata": {
        "id": "Mcn8s8f1AzFP"
      },
      "source": [
        "### Call to NewsApi\n",
        "Python wrapper around A JSON API for live news and blog headlines (a.k.a. News Api): https://newsapi.org/"
      ]
    },
    {
      "cell_type": "code",
      "metadata": {
        "id": "H2Imb1jRAaSE"
      },
      "source": [
        "#Call to NewsApi\n",
        "newsapi = NewsApiClient(api_key='27a062ac4e3340bead02d732875bddff')\n",
        "all_articles = newsapi.get_everything(q = company_name,\n",
        "                                      language='en',\n",
        "                                      # bbc-news, cnn, espn, the-hindu, the-times-of-india,\n",
        "                                      # news24, google-news, crypto-coins-news, bloomberg etc.\n",
        "                                      sources='bbc-news',\n",
        "                                      # top (default), relevancy, latest and popular\n",
        "                                      sort_by='relevancy',\n",
        "                                      page_size = 5)"
      ],
      "execution_count": 107,
      "outputs": []
    },
    {
      "cell_type": "markdown",
      "metadata": {
        "id": "sS6BWhwcAx4x"
      },
      "source": [
        "### Create a list of URLs to crawl through from the API"
      ]
    },
    {
      "cell_type": "code",
      "metadata": {
        "id": "hB80uF5hG6UP"
      },
      "source": [
        "list_url = []\n",
        "for item in all_articles['articles']:\n",
        "    list_url.append(unicodedata.normalize('NFKD', item['url']).encode('ascii','ignore').decode(\"utf-8\"))\n",
        "# print(list_url)"
      ],
      "execution_count": null,
      "outputs": []
    },
    {
      "cell_type": "markdown",
      "metadata": {
        "id": "h6lxn4M4ytwy"
      },
      "source": [
        "### Iterate through URLs and capture text\n",
        "\n",
        "Here we'll utilize the beautiful soup library to parse through html content and store only the article content. For each url:\n",
        "1. We fetch the HTML\n",
        "2. Parse the HTML document using Beautiful Soup \n",
        "3. Find and store the content of news article inside the webpage"
      ]
    },
    {
      "cell_type": "code",
      "metadata": {
        "id": "Z-sdAgRRG-Qw"
      },
      "source": [
        "# Iterate through list of urls, capture text on each and make presentable\n",
        "article_content = []\n",
        "for i in list_url:\n",
        "    page = requests.get(i)\n",
        "    soup = BeautifulSoup(page.content, 'html.parser')\n",
        "    content = soup.find_all(['p'])\n",
        "    for line in content:\n",
        "        line_string = unicodedata.normalize('NFKD', line.get_text()).encode('ascii','ignore').decode(\"utf-8\")\n",
        "        if (len(line_string)>20):\n",
        "            article_content.append(line_string)\n",
        "    article_content.append(',')"
      ],
      "execution_count": 112,
      "outputs": []
    },
    {
      "cell_type": "markdown",
      "metadata": {
        "id": "Oi0vCUXJytw0"
      },
      "source": [
        "### Display the articles\n",
        "\n",
        "Use the Display class to present the articles in Markdown"
      ]
    },
    {
      "cell_type": "code",
      "metadata": {
        "id": "-V6dn32VHLEH"
      },
      "source": [
        "counter = 1\n",
        "display(Markdown(\"# Article \" + str(counter)))\n",
        "for line in article_content:\n",
        "    if(line == ','):\n",
        "        counter = counter + 1\n",
        "        if (not(counter<=5)):\n",
        "            break;\n",
        "        display(Markdown(\"# Article \" + str(counter)))\n",
        "        continue\n",
        "    display(Markdown(line))"
      ],
      "execution_count": null,
      "outputs": []
    },
    {
      "cell_type": "code",
      "metadata": {
        "id": "PKXIG5elpXIz"
      },
      "source": [
        ""
      ],
      "execution_count": null,
      "outputs": []
    }
  ]
}