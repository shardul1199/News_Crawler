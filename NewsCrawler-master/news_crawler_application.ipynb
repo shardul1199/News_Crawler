{
 "cells": [
  {
   "cell_type": "markdown",
   "metadata": {},
   "source": [
    "# News Crawler Application\n",
    "*This is an interactive Jupyter Notebook which retrieves top news about a company (as asked by the user). Powered by News API*\n",
    "\n",
    "This project was imagined after Facebook's stock price **dropped about 40%** between the closing on July 25, 2018 and opening of July 26, 2018. One of the main factors in the sudden drop in facebook's stock price was it's earning report missing expectations on revenue and showing a slowing user growth. This project is an attempt to help an investor keep track of big news about companies in an attempt to protect them from such a loss."
   ]
  },
  {
   "cell_type": "markdown",
   "metadata": {},
   "source": [
    "The following describes the workflow behind the application and how it captures major new sources at any given point of time."
   ]
  },
  {
   "cell_type": "code",
   "execution_count": 23,
   "metadata": {},
   "outputs": [],
   "source": [
    "# All the imports\n",
    "\n",
    "# For user input\n",
    "from ipywidgets import widgets\n",
    "from ipywidgets import *\n",
    "from traitlets import *\n",
    "from IPython.display import display, Markdown\n",
    "\n",
    "#For converting unicode to string\n",
    "import unicodedata\n",
    "\n",
    "#NewsApiClient to find URLs of all the trending news\n",
    "from newsapi import NewsApiClient\n",
    "\n",
    "# Requests is used to get an html markup from a URL\n",
    "import requests\n",
    "\n",
    "# Beautiful Soup for crawling and capturing text\n",
    "from bs4 import BeautifulSoup"
   ]
  },
  {
   "cell_type": "markdown",
   "metadata": {},
   "source": [
    "### Ask user about their choice of company\n",
    "\n",
    "We'll start by asking the user about what company they're interested in. Run the cell and enter a name of a company and press _enter_"
   ]
  },
  {
   "cell_type": "code",
   "execution_count": 2,
   "metadata": {},
   "outputs": [
    {
     "name": "stdout",
     "output_type": "stream",
     "text": [
      "Enter name of Company you want to find news about: \n"
     ]
    },
    {
     "data": {
      "application/vnd.jupyter.widget-view+json": {
       "model_id": "51fcb1c7b13747e79b6424ab58bda945",
       "version_major": 2,
       "version_minor": 0
      },
      "text/plain": [
       "Text(value=u'')"
      ]
     },
     "metadata": {},
     "output_type": "display_data"
    },
    {
     "name": "stdout",
     "output_type": "stream",
     "text": [
      "Alright, let's show you news about facebook\n"
     ]
    }
   ],
   "source": [
    "# Get user choice about company\n",
    "text_input = widgets.Text()\n",
    "print(\"Enter name of Company you want to find news about: \")\n",
    "display(text_input)\n",
    "\n",
    "# Confirm user choice\n",
    "def handle_submit(sender):\n",
    "    print \"Alright, let's show you news about\", text_input.value\n",
    "    \n",
    "text_input.on_submit(handle_submit)"
   ]
  },
  {
   "cell_type": "markdown",
   "metadata": {},
   "source": [
    "Store user's company choice for use in the rest of the notebook. (Note: need to convert from unicode to string for ease of use later)"
   ]
  },
  {
   "cell_type": "code",
   "execution_count": 3,
   "metadata": {},
   "outputs": [],
   "source": [
    "# Convert user's company preference into a string ready for API query\n",
    "company_name = unicodedata.normalize('NFKD', text_input.value).encode('ascii','ignore')"
   ]
  },
  {
   "cell_type": "markdown",
   "metadata": {},
   "source": [
    "### Find top news article URLs\n",
    "\n",
    "Next, we'll use the **News API** to find the top trending news about the company from CNBC and BBC News (in order to find a diversified, yet reputable mix of news articles). Currently we're only fetching 5 news articles, but that value can be changed."
   ]
  },
  {
   "cell_type": "code",
   "execution_count": 72,
   "metadata": {},
   "outputs": [],
   "source": [
    "#Call to NewsApi\n",
    "newsapi = NewsApiClient(api_key='6ddbec75b59a4fabab49e2eafeba6df7')\n",
    "all_articles = newsapi.get_everything(q = company_name,\n",
    "                                      language='en',\n",
    "                                      sources='cnbc',\n",
    "                                      sort_by='relevancy',\n",
    "                                      page_size = 5)"
   ]
  },
  {
   "cell_type": "code",
   "execution_count": 73,
   "metadata": {},
   "outputs": [],
   "source": [
    "#Create a list of URLs to crawl through from the API\n",
    "list_url = []\n",
    "for item in all_articles['articles']:\n",
    "    list_url.append(unicodedata.normalize('NFKD', item['url']).encode('ascii','ignore'))"
   ]
  },
  {
   "cell_type": "markdown",
   "metadata": {},
   "source": [
    "### Iterate through URLs and capture text\n",
    "\n",
    "Here we'll utilize the beautiful soup library to parse through html content and store only the article content. For each url:\n",
    "1. We fetch the HTML\n",
    "2. Parse the HTML document using Beautiful Soup \n",
    "3. Find and store the content of news article inside the webpage"
   ]
  },
  {
   "cell_type": "code",
   "execution_count": 74,
   "metadata": {},
   "outputs": [],
   "source": [
    "# Iterate through list of urls, capture text on each and make presentable\n",
    "article_content = []\n",
    "for i in list_url:\n",
    "    page = requests.get(i)\n",
    "    soup = BeautifulSoup(page.content, 'html.parser')\n",
    "    content = soup.find_all(['p'])\n",
    "    for line in content:\n",
    "        line_string = unicodedata.normalize('NFKD', line.get_text()).encode('ascii','ignore')\n",
    "        if (len(line_string)>20):\n",
    "            article_content.append(line_string)\n",
    "    article_content.append(',')"
   ]
  },
  {
   "cell_type": "markdown",
   "metadata": {},
   "source": [
    "### Display the articles\n",
    "\n",
    "Use the Display class to present the articles in Markdown"
   ]
  },
  {
   "cell_type": "code",
   "execution_count": 75,
   "metadata": {},
   "outputs": [
    {
     "data": {
      "text/markdown": [
       "# Article 1"
      ],
      "text/plain": [
       "<IPython.core.display.Markdown object>"
      ]
     },
     "metadata": {},
     "output_type": "display_data"
    },
    {
     "data": {
      "text/markdown": [
       "Facebook is now offering some mobile app users a wireless-networking app without first disclosing that it's owned by Facebook, or that it collects information for the social networking company."
      ],
      "text/plain": [
       "<IPython.core.display.Markdown object>"
      ]
     },
     "metadata": {},
     "output_type": "display_data"
    },
    {
     "data": {
      "text/markdown": [
       "The app, Onavo Protect, provides users with a virtual private network, or VPN. Typically, a VPN cloaks the user's identity and adds other security features, making it a more secure way to get online, particularly when using public Wi-Fi networks."
      ],
      "text/plain": [
       "<IPython.core.display.Markdown object>"
      ]
     },
     "metadata": {},
     "output_type": "display_data"
    },
    {
     "data": {
      "text/markdown": [
       "Yet the Onavo app also tracks data that it shares with Facebook and others, \"including the applications installed on your device, your use of those applications, the websites you visit and the amount of data you use,\" according to its own privacy policies."
      ],
      "text/plain": [
       "<IPython.core.display.Markdown object>"
      ]
     },
     "metadata": {},
     "output_type": "display_data"
    },
    {
     "data": {
      "text/markdown": [
       "Facebook can use that data to track what users do online even when they're not on one of its websites. The company could also find out how apps made by its rivals, such as Snap and Twitter, are being used."
      ],
      "text/plain": [
       "<IPython.core.display.Markdown object>"
      ]
     },
     "metadata": {},
     "output_type": "display_data"
    },
    {
     "data": {
      "text/markdown": [
       "Facebook, which bought the Israeli security company in 2013, now points to its software in a tab in its mobile app marked \"Protect.\""
      ],
      "text/plain": [
       "<IPython.core.display.Markdown object>"
      ]
     },
     "metadata": {},
     "output_type": "display_data"
    },
    {
     "data": {
      "text/markdown": [
       "Yet a user would have to go to the Onavo website, or expand the \"description\" link on the Apple App Store and read all the way to the bottom, in order to learn that it's owned by Facebook and shares data with its parent company."
      ],
      "text/plain": [
       "<IPython.core.display.Markdown object>"
      ]
     },
     "metadata": {},
     "output_type": "display_data"
    },
    {
     "data": {
      "text/markdown": [
       "The update was previously reported by TechCrunch."
      ],
      "text/plain": [
       "<IPython.core.display.Markdown object>"
      ]
     },
     "metadata": {},
     "output_type": "display_data"
    },
    {
     "data": {
      "text/markdown": [
       "Here's the promotion for the app."
      ],
      "text/plain": [
       "<IPython.core.display.Markdown object>"
      ]
     },
     "metadata": {},
     "output_type": "display_data"
    },
    {
     "data": {
      "text/markdown": [
       "# Article 2"
      ],
      "text/plain": [
       "<IPython.core.display.Markdown object>"
      ]
     },
     "metadata": {},
     "output_type": "display_data"
    },
    {
     "data": {
      "text/markdown": [
       "Facebook's VP of Messaging David Marcus may have just joined the board of digital currency exchange Coinbase, but that doesn't mean bitcoin is about to show up on Facebook Messenger."
      ],
      "text/plain": [
       "<IPython.core.display.Markdown object>"
      ]
     },
     "metadata": {},
     "output_type": "display_data"
    },
    {
     "data": {
      "text/markdown": [
       "In fact, crypto won't have play role on his platform anytime soon, Marcus told me in an interview on stage this week at Upfront Ventures' annual summit in Los Angeles."
      ],
      "text/plain": [
       "<IPython.core.display.Markdown object>"
      ]
     },
     "metadata": {},
     "output_type": "display_data"
    },
    {
     "data": {
      "text/markdown": [
       "\"Payments using crypto right now is just very expensive, super slow, so the various communities running the different blockchains and the different assets need to fix all the issues, and then when we get there someday, maybe we'll do something,\" said Marcus."
      ],
      "text/plain": [
       "<IPython.core.display.Markdown object>"
      ]
     },
     "metadata": {},
     "output_type": "display_data"
    },
    {
     "data": {
      "text/markdown": [
       "This skepticism is despite what Marcus says is a longtime interest in cryptocurrencies and his expertise in digital payments. He founded a mobile payments company called Zong which he sold to PayPal, becoming its president, before leaving to run messaging for Facebook."
      ],
      "text/plain": [
       "<IPython.core.display.Markdown object>"
      ]
     },
     "metadata": {},
     "output_type": "display_data"
    },
    {
     "data": {
      "text/markdown": [
       "While Marcus is wary of enabling Messenger's 1.3 billion users to pay with bitcoin, he's focused on encouraging people to exchange money. \"When you want to pay someone you always have a conversation about it...Payments is really at home in a conversational environment,\" Marcus said. \"The experience is really frictionless because it's debit card to debit card experience.\""
      ],
      "text/plain": [
       "<IPython.core.display.Markdown object>"
      ]
     },
     "metadata": {},
     "output_type": "display_data"
    },
    {
     "data": {
      "text/markdown": [
       "Earlier this week, Facebook banned all cryptocurrency-related ads. Marcus defended CEO Mark Zuckerberg's decision to block all ads related to the category, even though that means passing up ad revenue."
      ],
      "text/plain": [
       "<IPython.core.display.Markdown object>"
      ]
     },
     "metadata": {},
     "output_type": "display_data"
    },
    {
     "data": {
      "text/markdown": [
       "\"We want to protect the community. That's job number one. All the legitimate people in the crypto world that I spoke to at least thanked me for what we just did with that move,\" Marcus said. \"The reality is the vast majority of these ads were a scam and we cannot allow scams to exist on our platform.\""
      ],
      "text/plain": [
       "<IPython.core.display.Markdown object>"
      ]
     },
     "metadata": {},
     "output_type": "display_data"
    },
    {
     "data": {
      "text/markdown": [
       "Marcus left the door open to reverse course, saying \"once the industry self regulates a lot better and you have better more legit products that want to be advertised on the platform. When we get to that stage, we'll figure out a way to reintroduce these things. But right now, I think the whole industry is actually very worried about what was happening because as a whole it delegitimizes the whole industry.\""
      ],
      "text/plain": [
       "<IPython.core.display.Markdown object>"
      ]
     },
     "metadata": {},
     "output_type": "display_data"
    },
    {
     "data": {
      "text/markdown": [
       "I asked Marcus how much cryptocurrency he owned. He said he owned some. When I asked if it was more or less than rapper 50 Cent who admitted to forgetting about a bitcoin stash now worth millions, he said no comment."
      ],
      "text/plain": [
       "<IPython.core.display.Markdown object>"
      ]
     },
     "metadata": {},
     "output_type": "display_data"
    },
    {
     "data": {
      "text/markdown": [
       "# Article 3"
      ],
      "text/plain": [
       "<IPython.core.display.Markdown object>"
      ]
     },
     "metadata": {},
     "output_type": "display_data"
    },
    {
     "data": {
      "text/markdown": [
       "Facebook chief security officer Alex Stamos says in a leaked audio recording that the company's cyber defense operations are run \"like a college campus, almost\" to satisfy the company's internal culture of freedom to experiment, even though Facebook faces the same kinds of highly sophisticated attacks as a defense contractor."
      ],
      "text/plain": [
       "<IPython.core.display.Markdown object>"
      ]
     },
     "metadata": {},
     "output_type": "display_data"
    },
    {
     "data": {
      "text/markdown": [
       "\"The threats that we are facing have increased significantly and the quality of the adversaries that we are facing...Both technically and from a cultural perspective I don't feel like we have caught up with our responsibility,\" Stamos says in the recording, which was made in July and obtained by the tech news site ZDNet."
      ],
      "text/plain": [
       "<IPython.core.display.Markdown object>"
      ]
     },
     "metadata": {},
     "output_type": "display_data"
    },
    {
     "data": {
      "text/markdown": [
       "\"We have the threat profile of a...defense contractor, but we run our corporate networks...like a college campus, almost,\" he says."
      ],
      "text/plain": [
       "<IPython.core.display.Markdown object>"
      ]
     },
     "metadata": {},
     "output_type": "display_data"
    },
    {
     "data": {
      "text/markdown": [
       "Stamos, formerly the chief security officer of Yahoo, then went on Twitter to explain his coments."
      ],
      "text/plain": [
       "<IPython.core.display.Markdown object>"
      ]
     },
     "metadata": {},
     "output_type": "display_data"
    },
    {
     "data": {
      "text/markdown": [
       "\"The college campus wording is just a figure of speech to make a point,\" Stamos posted."
      ],
      "text/plain": [
       "<IPython.core.display.Markdown object>"
      ]
     },
     "metadata": {},
     "output_type": "display_data"
    },
    {
     "data": {
      "text/markdown": [
       "The Facebook executive then went on:"
      ],
      "text/plain": [
       "<IPython.core.display.Markdown object>"
      ]
     },
     "metadata": {},
     "output_type": "display_data"
    },
    {
     "data": {
      "text/markdown": [
       "\"Tech companies are famous for providing freedom for engineers to customize their environments & experiment with new tools...allowing for this freedom helps creativity and productivity."
      ],
      "text/plain": [
       "<IPython.core.display.Markdown object>"
      ]
     },
     "metadata": {},
     "output_type": "display_data"
    },
    {
     "data": {
      "text/markdown": [
       "\"We have to weigh that against the fact that we have become a potential target of advanced threat actors."
      ],
      "text/plain": [
       "<IPython.core.display.Markdown object>"
      ]
     },
     "metadata": {},
     "output_type": "display_data"
    },
    {
     "data": {
      "text/markdown": [
       "\"As a result, we can't architect our security the same way a defense contractor can, with limited computing options and no freedom."
      ],
      "text/plain": [
       "<IPython.core.display.Markdown object>"
      ]
     },
     "metadata": {},
     "output_type": "display_data"
    },
    {
     "data": {
      "text/markdown": [
       "\"Keeping the company secure while allowing the culture to blossom is a challenge, but a motivating one,\" Stamos wrote."
      ],
      "text/plain": [
       "<IPython.core.display.Markdown object>"
      ]
     },
     "metadata": {},
     "output_type": "display_data"
    },
    {
     "data": {
      "text/markdown": [
       "# Article 4"
      ],
      "text/plain": [
       "<IPython.core.display.Markdown object>"
      ]
     },
     "metadata": {},
     "output_type": "display_data"
    },
    {
     "data": {
      "text/markdown": [
       "Australia's competition regulator said on Monday it would investigate whether U.S. online giants Facebook and Alphabet's Google had disrupted the news media to the detriment of publishers and consumers."
      ],
      "text/plain": [
       "<IPython.core.display.Markdown object>"
      ]
     },
     "metadata": {},
     "output_type": "display_data"
    },
    {
     "data": {
      "text/markdown": [
       "Like their rivals globally, Australia's traditional media companies have been squeezed by online rivals, as advertising dollars have followed eyeballs to digital distributors such as Google, Facebook and Netflix."
      ],
      "text/plain": [
       "<IPython.core.display.Markdown object>"
      ]
     },
     "metadata": {},
     "output_type": "display_data"
    },
    {
     "data": {
      "text/markdown": [
       "The government ordered the probe as part of wider media reforms, amid growing concern for the future of journalism and the quality of news following years of declining profits and newsroom job cuts."
      ],
      "text/plain": [
       "<IPython.core.display.Markdown object>"
      ]
     },
     "metadata": {},
     "output_type": "display_data"
    },
    {
     "data": {
      "text/markdown": [
       "\"We will examine whether platforms are exercising market power in commercial dealings to the detriment of consumers, media content creators and advertisers,\" Australian Competition and Consumer Commission (ACCC) Chairman Rod Sims said in a statement."
      ],
      "text/plain": [
       "<IPython.core.display.Markdown object>"
      ]
     },
     "metadata": {},
     "output_type": "display_data"
    },
    {
     "data": {
      "text/markdown": [
       "The inquiry also would study how Facebook and Google operated to \"fully understand their influence in Australia,\" he added."
      ],
      "text/plain": [
       "<IPython.core.display.Markdown object>"
      ]
     },
     "metadata": {},
     "output_type": "display_data"
    },
    {
     "data": {
      "text/markdown": [
       "The probe will have power to demand information from businesses and hold hearings. It is due to make its final report in 18 months."
      ],
      "text/plain": [
       "<IPython.core.display.Markdown object>"
      ]
     },
     "metadata": {},
     "output_type": "display_data"
    },
    {
     "data": {
      "text/markdown": [
       "# Article 5"
      ],
      "text/plain": [
       "<IPython.core.display.Markdown object>"
      ]
     },
     "metadata": {},
     "output_type": "display_data"
    },
    {
     "data": {
      "text/markdown": [
       "An early Facebook and Google investor said Tuesday that revelations of Russian propaganda during the election have elevated his concerns about the personal data collected by the tech giants. "
      ],
      "text/plain": [
       "<IPython.core.display.Markdown object>"
      ]
     },
     "metadata": {},
     "output_type": "display_data"
    },
    {
     "data": {
      "text/markdown": [
       "About 150 million Americans came in contact with divisive content or advertisements from bogus Russian-based accounts, according to Facebook. Russian state actors are also suspected of trying to influence the election through platforms like Google and Twitter."
      ],
      "text/plain": [
       "<IPython.core.display.Markdown object>"
      ]
     },
     "metadata": {},
     "output_type": "display_data"
    },
    {
     "data": {
      "text/markdown": [
       "\"Those people have all been Zucked. They've all had their brains altered, and they've come to believe things that weren't true. And I want Facebook to contact every one of them,\" Roger McNamee said, referencing Facebook CEO and co-founder Mark Zuckerberg."
      ],
      "text/plain": [
       "<IPython.core.display.Markdown object>"
      ]
     },
     "metadata": {},
     "output_type": "display_data"
    },
    {
     "data": {
      "text/markdown": [
       "\"I don't know if I would have seen it if it hadn't been for the Russian thing,\" McNamee told CNBC's \"Squawk Alley.\" \"It was only because weird things were going on in the election that I even noticed something was weird.\" "
      ],
      "text/plain": [
       "<IPython.core.display.Markdown object>"
      ]
     },
     "metadata": {},
     "output_type": "display_data"
    },
    {
     "data": {
      "text/markdown": [
       "McNamee said Facebook should contact each person who came in contact with any \"baloney\" Russian propaganda on the social media site. He also said it's important that Congress ask the CEOs to come in and discuss any Russian election interference in public."
      ],
      "text/plain": [
       "<IPython.core.display.Markdown object>"
      ]
     },
     "metadata": {},
     "output_type": "display_data"
    },
    {
     "data": {
      "text/markdown": [
       "\"The thing that's so different about Facebook and Google is they have personal data on every adult and most young people,\" McNamee said. \"They are going straight into the brain of 2 billion people, and we don't have evolutionary defenses for that.\""
      ],
      "text/plain": [
       "<IPython.core.display.Markdown object>"
      ]
     },
     "metadata": {},
     "output_type": "display_data"
    },
    {
     "data": {
      "text/markdown": [
       "McNamee is a managing director at investment firm Elevation Partners, which invested in companies like Yelp, Palm and Facebook. Former Apple executive Fred Anderson and musician Bono also help lead the group."
      ],
      "text/plain": [
       "<IPython.core.display.Markdown object>"
      ]
     },
     "metadata": {},
     "output_type": "display_data"
    },
    {
     "data": {
      "text/markdown": [
       "McNamee's comments came after Sean Parker  an early Facebook executive  said the site was built to exploit human vulnerability. McNamee pointed to other examples, like Google's YouTube Kids, that hook relatively \"defenseless\" consumers."
      ],
      "text/plain": [
       "<IPython.core.display.Markdown object>"
      ]
     },
     "metadata": {},
     "output_type": "display_data"
    },
    {
     "data": {
      "text/markdown": [
       "\"To me, the notion that the original president of Facebook is ... admitting that they thought about addiction as the basis of a business model is a big change. It's one thing for me to say it, it's quite another for Sean Parker to say it,\" McNamee said."
      ],
      "text/plain": [
       "<IPython.core.display.Markdown object>"
      ]
     },
     "metadata": {},
     "output_type": "display_data"
    },
    {
     "data": {
      "text/markdown": [
       "Facebook has said it is doubling its staff that's focused on sensitive security and community issues to 20,000 by the end of next year, an investment that will impact its profits. "
      ],
      "text/plain": [
       "<IPython.core.display.Markdown object>"
      ]
     },
     "metadata": {},
     "output_type": "display_data"
    },
    {
     "data": {
      "text/markdown": [
       "Facebook and Google were not immediately available to comment on McNamee's remarks."
      ],
      "text/plain": [
       "<IPython.core.display.Markdown object>"
      ]
     },
     "metadata": {},
     "output_type": "display_data"
    },
    {
     "data": {
      "text/markdown": [
       "\"They didn't [build their platform] because they wanted to blow up democracy. I don't think anyone thought they would be as successful a company as they are,\" McNamee said. \"The reality is, though, they have been that successful.\""
      ],
      "text/plain": [
       "<IPython.core.display.Markdown object>"
      ]
     },
     "metadata": {},
     "output_type": "display_data"
    },
    {
     "data": {
      "text/markdown": [
       "But McNamee said demands from consumers would be more powerful than just trying to undermine Facebook's profits. He said consumers should push to own their own data and that technology companies should clarify how much of consumers' data they can really view."
      ],
      "text/plain": [
       "<IPython.core.display.Markdown object>"
      ]
     },
     "metadata": {},
     "output_type": "display_data"
    },
    {
     "data": {
      "text/markdown": [
       "\"Did you sign up at the beginning to have them use your information for the rest of your life? To sell it to people for uses other than Facebook?\" McNamee asked. \"And for them to look for pictures of you everywhere they can find them and identify everything you're doing? Did you actually sign up for that? Do you even know  does any of us know   what's in the user agreement?\""
      ],
      "text/plain": [
       "<IPython.core.display.Markdown object>"
      ]
     },
     "metadata": {},
     "output_type": "display_data"
    }
   ],
   "source": [
    "counter = 1\n",
    "display(Markdown(\"# Article \" + str(counter)))\n",
    "for line in article_content:\n",
    "    if(line == ','):\n",
    "        counter = counter + 1\n",
    "        if (not(counter<=5)):\n",
    "            break;\n",
    "        display(Markdown(\"# Article \" + str(counter)))\n",
    "        continue\n",
    "    display(Markdown(line))\n"
   ]
  }
 ],
 "metadata": {
  "kernelspec": {
   "display_name": "Python 2",
   "language": "python",
   "name": "python2"
  },
  "language_info": {
   "codemirror_mode": {
    "name": "ipython",
    "version": 2
   },
   "file_extension": ".py",
   "mimetype": "text/x-python",
   "name": "python",
   "nbconvert_exporter": "python",
   "pygments_lexer": "ipython2",
   "version": "2.7.14"
  }
 },
 "nbformat": 4,
 "nbformat_minor": 2
}
